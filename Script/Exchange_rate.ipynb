{
  "cells": [
    {
      "cell_type": "code",
      "execution_count": 1,
      "metadata": {
        "id": "58zmGTrx7Sf0"
      },
      "outputs": [],
      "source": [
        "import pandas as pd\n",
        "import numpy as np\n",
        "import matplotlib.pyplot as plt\n",
        "import seaborn as sns\n",
        "import plotly.graph_objects as go\n",
        "\n",
        "def clean_g20_exchange_rates(input_file, output_file):\n",
        "    \"\"\"\n",
        "    Clean the G20 Exchange Rates CSV file by converting country codes to full names.\n",
        "\n",
        "    Parameters:\n",
        "    input_file (str): Path to the input CSV file with country codes\n",
        "    output_file (str): Path to save the cleaned CSV file with full country names\n",
        "    \"\"\"\n",
        "    # Read the CSV file\n",
        "    df = pd.read_csv(input_file)\n",
        "\n",
        "    # Create a mapping from country codes to full names\n",
        "    country_mapping = {\n",
        "        \"ARG\": \"Argentina\",\n",
        "        \"AUS\": \"Australia\",\n",
        "        \"BRA\": \"Brazil\",\n",
        "        \"CAN\": \"Canada\",\n",
        "        \"CHN\": \"China\",\n",
        "        \"DEU\": \"Germany\",\n",
        "        \"FRA\": \"France\",\n",
        "        \"GBR\": \"United Kingdom\",\n",
        "        \"IDN\": \"Indonesia\",\n",
        "        \"IND\": \"India\",\n",
        "        \"ITA\": \"Italy\",\n",
        "        \"JPN\": \"Japan\",\n",
        "        \"KOR\": \"South Korea\",\n",
        "        \"MEX\": \"Mexico\",\n",
        "        \"RUS\": \"Russia\",\n",
        "        \"SAU\": \"Saudi Arabia\",\n",
        "        \"TUR\": \"Turkey\",\n",
        "        \"USA\": \"United States\",\n",
        "        \"ZAF\": \"South Africa\",\n",
        "        \"EU27_2020\": \"European Union\"\n",
        "    }\n",
        "\n",
        "    # Replace country codes with full names\n",
        "    df['COUNTRY'] = df['COUNTRY'].map(country_mapping)\n",
        "    df.rename(columns={'COUNTRY': 'Country'}, inplace=True)\n",
        "    df.rename(columns={'YEAR': 'Year'}, inplace=True)\n",
        "\n",
        "    # Save the cleaned data to a new CSV file\n",
        "    df.to_csv(output_file, index=False)\n",
        "\n",
        "\n"
      ]
    },
    {
      "cell_type": "code",
      "execution_count": 4,
      "metadata": {
        "colab": {
          "base_uri": "https://localhost:8080/",
          "height": 206
        },
        "id": "9ARIA-y5kPRA",
        "outputId": "70ab8a81-f633-40f2-b8b3-b3a8b042d842"
      },
      "outputs": [
        {
          "data": {
            "text/html": [
              "<div>\n",
              "<style scoped>\n",
              "    .dataframe tbody tr th:only-of-type {\n",
              "        vertical-align: middle;\n",
              "    }\n",
              "\n",
              "    .dataframe tbody tr th {\n",
              "        vertical-align: top;\n",
              "    }\n",
              "\n",
              "    .dataframe thead th {\n",
              "        text-align: right;\n",
              "    }\n",
              "</style>\n",
              "<table border=\"1\" class=\"dataframe\">\n",
              "  <thead>\n",
              "    <tr style=\"text-align: right;\">\n",
              "      <th></th>\n",
              "      <th>COUNTRY</th>\n",
              "      <th>YEAR</th>\n",
              "      <th>Value</th>\n",
              "    </tr>\n",
              "  </thead>\n",
              "  <tbody>\n",
              "    <tr>\n",
              "      <th>0</th>\n",
              "      <td>AUS</td>\n",
              "      <td>2000</td>\n",
              "      <td>1.724827</td>\n",
              "    </tr>\n",
              "    <tr>\n",
              "      <th>1</th>\n",
              "      <td>AUS</td>\n",
              "      <td>2001</td>\n",
              "      <td>1.933443</td>\n",
              "    </tr>\n",
              "    <tr>\n",
              "      <th>2</th>\n",
              "      <td>AUS</td>\n",
              "      <td>2002</td>\n",
              "      <td>1.840563</td>\n",
              "    </tr>\n",
              "    <tr>\n",
              "      <th>3</th>\n",
              "      <td>AUS</td>\n",
              "      <td>2003</td>\n",
              "      <td>1.541914</td>\n",
              "    </tr>\n",
              "    <tr>\n",
              "      <th>4</th>\n",
              "      <td>AUS</td>\n",
              "      <td>2004</td>\n",
              "      <td>1.359752</td>\n",
              "    </tr>\n",
              "  </tbody>\n",
              "</table>\n",
              "</div>"
            ],
            "text/plain": [
              "  COUNTRY  YEAR     Value\n",
              "0     AUS  2000  1.724827\n",
              "1     AUS  2001  1.933443\n",
              "2     AUS  2002  1.840563\n",
              "3     AUS  2003  1.541914\n",
              "4     AUS  2004  1.359752"
            ]
          },
          "execution_count": 4,
          "metadata": {},
          "output_type": "execute_result"
        }
      ],
      "source": [
        "df = pd.read_csv('/Users/chaotzuchieh/Desktop/CAP5771_Project/Data/G20_Exchange_Rates.csv')\n",
        "df.head()"
      ]
    },
    {
      "cell_type": "code",
      "execution_count": 6,
      "metadata": {
        "id": "zEnqsquw9eKN"
      },
      "outputs": [],
      "source": [
        "clean_g20_exchange_rates('/Users/chaotzuchieh/Desktop/CAP5771_Project/Data/G20_Exchange_Rates.csv', 'New_G20_Exchange_Rates.csv')\n"
      ]
    },
    {
      "cell_type": "code",
      "execution_count": 8,
      "metadata": {
        "id": "kHlYTcl--msV"
      },
      "outputs": [],
      "source": [
        "df = pd.read_csv('/Users/chaotzuchieh/Desktop/CAP5771_Project/Data/New_G20_Exchange_Rates.csv')"
      ]
    },
    {
      "cell_type": "code",
      "execution_count": 9,
      "metadata": {
        "colab": {
          "base_uri": "https://localhost:8080/",
          "height": 206
        },
        "id": "AbuI-oim-xW4",
        "outputId": "b0ffba13-85dd-403b-9c12-f6d1dea04d92"
      },
      "outputs": [
        {
          "data": {
            "text/html": [
              "<div>\n",
              "<style scoped>\n",
              "    .dataframe tbody tr th:only-of-type {\n",
              "        vertical-align: middle;\n",
              "    }\n",
              "\n",
              "    .dataframe tbody tr th {\n",
              "        vertical-align: top;\n",
              "    }\n",
              "\n",
              "    .dataframe thead th {\n",
              "        text-align: right;\n",
              "    }\n",
              "</style>\n",
              "<table border=\"1\" class=\"dataframe\">\n",
              "  <thead>\n",
              "    <tr style=\"text-align: right;\">\n",
              "      <th></th>\n",
              "      <th>Country</th>\n",
              "      <th>Year</th>\n",
              "      <th>Value</th>\n",
              "    </tr>\n",
              "  </thead>\n",
              "  <tbody>\n",
              "    <tr>\n",
              "      <th>0</th>\n",
              "      <td>Australia</td>\n",
              "      <td>2000</td>\n",
              "      <td>1.724827</td>\n",
              "    </tr>\n",
              "    <tr>\n",
              "      <th>1</th>\n",
              "      <td>Australia</td>\n",
              "      <td>2001</td>\n",
              "      <td>1.933443</td>\n",
              "    </tr>\n",
              "    <tr>\n",
              "      <th>2</th>\n",
              "      <td>Australia</td>\n",
              "      <td>2002</td>\n",
              "      <td>1.840563</td>\n",
              "    </tr>\n",
              "    <tr>\n",
              "      <th>3</th>\n",
              "      <td>Australia</td>\n",
              "      <td>2003</td>\n",
              "      <td>1.541914</td>\n",
              "    </tr>\n",
              "    <tr>\n",
              "      <th>4</th>\n",
              "      <td>Australia</td>\n",
              "      <td>2004</td>\n",
              "      <td>1.359752</td>\n",
              "    </tr>\n",
              "  </tbody>\n",
              "</table>\n",
              "</div>"
            ],
            "text/plain": [
              "     Country  Year     Value\n",
              "0  Australia  2000  1.724827\n",
              "1  Australia  2001  1.933443\n",
              "2  Australia  2002  1.840563\n",
              "3  Australia  2003  1.541914\n",
              "4  Australia  2004  1.359752"
            ]
          },
          "execution_count": 9,
          "metadata": {},
          "output_type": "execute_result"
        }
      ],
      "source": [
        "df.head()"
      ]
    },
    {
      "cell_type": "code",
      "execution_count": 10,
      "metadata": {
        "colab": {
          "base_uri": "https://localhost:8080/"
        },
        "id": "9Q5DDwCFEFeo",
        "outputId": "ce613cf3-87c9-4ac3-c771-396cdbc3cbbc"
      },
      "outputs": [
        {
          "name": "stdout",
          "output_type": "stream",
          "text": [
            "<class 'pandas.core.frame.DataFrame'>\n",
            "RangeIndex: 440 entries, 0 to 439\n",
            "Data columns (total 3 columns):\n",
            " #   Column   Non-Null Count  Dtype  \n",
            "---  ------   --------------  -----  \n",
            " 0   Country  440 non-null    object \n",
            " 1   Year     440 non-null    int64  \n",
            " 2   Value    440 non-null    float64\n",
            "dtypes: float64(1), int64(1), object(1)\n",
            "memory usage: 10.4+ KB\n"
          ]
        }
      ],
      "source": [
        "df.info()"
      ]
    },
    {
      "cell_type": "code",
      "execution_count": 11,
      "metadata": {},
      "outputs": [
        {
          "data": {
            "application/vnd.plotly.v1+json": {
              "config": {
                "plotlyServerURL": "https://plot.ly"
              },
              "data": [
                {
                  "hovertemplate": "<b>%{text}</b><br>Year: %{x}<br>Exchange Rate: %{y:.2f}<extra></extra>",
                  "mode": "lines+markers",
                  "name": "United States",
                  "text": [
                    "United States",
                    "United States",
                    "United States",
                    "United States",
                    "United States",
                    "United States",
                    "United States",
                    "United States",
                    "United States",
                    "United States",
                    "United States",
                    "United States",
                    "United States",
                    "United States",
                    "United States",
                    "United States",
                    "United States",
                    "United States",
                    "United States",
                    "United States",
                    "United States",
                    "United States"
                  ],
                  "type": "scatter",
                  "x": {
                    "bdata": "0AfRB9IH0wfUB9UH1gfXB9gH2QfaB9sH3AfdB94H3wfgB+EH4gfjB+QH5Qc=",
                    "dtype": "i2"
                  },
                  "y": {
                    "bdata": "AAAAAAAA8D8AAAAAAADwPwAAAAAAAPA/AAAAAAAA8D8AAAAAAADwPwAAAAAAAPA/AAAAAAAA8D8AAAAAAADwPwAAAAAAAPA/AAAAAAAA8D8AAAAAAADwPwAAAAAAAPA/AAAAAAAA8D8AAAAAAADwPwAAAAAAAPA/AAAAAAAA8D8AAAAAAADwPwAAAAAAAPA/AAAAAAAA8D8AAAAAAADwPwAAAAAAAPA/AAAAAAAA8D8=",
                    "dtype": "f8"
                  }
                },
                {
                  "hovertemplate": "<b>%{text}</b><br>Year: %{x}<br>Exchange Rate: %{y:.2f}<extra></extra>",
                  "mode": "lines+markers",
                  "name": "Canada",
                  "text": [
                    "Canada",
                    "Canada",
                    "Canada",
                    "Canada",
                    "Canada",
                    "Canada",
                    "Canada",
                    "Canada",
                    "Canada",
                    "Canada",
                    "Canada",
                    "Canada",
                    "Canada",
                    "Canada",
                    "Canada",
                    "Canada",
                    "Canada",
                    "Canada",
                    "Canada",
                    "Canada",
                    "Canada",
                    "Canada"
                  ],
                  "type": "scatter",
                  "x": {
                    "bdata": "0AfRB9IH0wfUB9UH1gfXB9gH2QfaB9sH3AfdB94H3wfgB+EH4gfjB+QH5Qc=",
                    "dtype": "i2"
                  },
                  "y": {
                    "bdata": "Q8u6fyzE9z9HyatzDMj4P1sKSPsfIPk/e0ljtI5q9j+++Q0TDdL0P8RfkzXqYfM/ERlW8UYm8j/UZMbbSi/xP7zJb9HJEvE/a9RDNLpD8j+A8+LEV3vwP8TNqWQAqO8/l4v4Tsz67z+RZFbvcHvwP3GqtTALrfE/j1IJT+h19D+EZAETuDX1PyDRBIpYxPQ/DRe5p6u79D/W/PhLizr1P6fqHtlcdfU/M05DVOEP9D8=",
                    "dtype": "f8"
                  }
                },
                {
                  "hovertemplate": "<b>%{text}</b><br>Year: %{x}<br>Exchange Rate: %{y:.2f}<extra></extra>",
                  "mode": "lines+markers",
                  "name": "United Kingdom",
                  "text": [
                    "United Kingdom",
                    "United Kingdom",
                    "United Kingdom",
                    "United Kingdom",
                    "United Kingdom",
                    "United Kingdom",
                    "United Kingdom",
                    "United Kingdom",
                    "United Kingdom",
                    "United Kingdom",
                    "United Kingdom",
                    "United Kingdom",
                    "United Kingdom",
                    "United Kingdom",
                    "United Kingdom",
                    "United Kingdom",
                    "United Kingdom",
                    "United Kingdom",
                    "United Kingdom",
                    "United Kingdom",
                    "United Kingdom",
                    "United Kingdom"
                  ],
                  "type": "scatter",
                  "x": {
                    "bdata": "0AfRB9IH0wfUB9UH1gfXB9gH2QfaB9sH3AfdB94H3wfgB+EH4gfjB+QH5Qc=",
                    "dtype": "i2"
                  },
                  "y": {
                    "bdata": "0zO9xFgm5T+YF2AfnTrmP8FyhAzkWeU/Hec24V6Z4z9DVrd6TnrhP2yx22eVmeE/CqNZ2T5k4T9+N92yQ/zfP5ZZhGIraOE/88r1tpmK5D80DvW7sLXkP7H34ov2+OM/1ZY6yOtB5D9e2nBYGnjkP9+JWS+GcuM/i1QYWwjy5D8AyAkTRrPnP2zQl97+3Og/bcZpiCr85z/83qY/+xHpP/YoXI/C9eg/ox6i0R1E5z8=",
                    "dtype": "f8"
                  }
                },
                {
                  "hovertemplate": "<b>%{text}</b><br>Year: %{x}<br>Exchange Rate: %{y:.2f}<extra></extra>",
                  "mode": "lines+markers",
                  "name": "Germany",
                  "text": [
                    "Germany",
                    "Germany",
                    "Germany",
                    "Germany",
                    "Germany",
                    "Germany",
                    "Germany",
                    "Germany",
                    "Germany",
                    "Germany",
                    "Germany",
                    "Germany",
                    "Germany",
                    "Germany",
                    "Germany",
                    "Germany",
                    "Germany",
                    "Germany",
                    "Germany",
                    "Germany",
                    "Germany",
                    "Germany"
                  ],
                  "type": "scatter",
                  "x": {
                    "bdata": "0AfRB9IH0wfUB9UH1gfXB9gH2QfaB9sH3AfdB94H3wfgB+EH4gfjB+QH5Qc=",
                    "dtype": "i2"
                  },
                  "y": {
                    "bdata": "bXNjesJS8T/uef60Ud3xP4pyafzC6/A/wAMDCB9K7D8AHlGhurnpPynLEMe6uOk/vJAOD2F86T850hkYeVnnP+yKGeHtweU/0GBT51Hx5j/HgsKgTCPoPyeiX1s//eY/Un3nFyXo6D+c+dUcIBjoP1US2QdZFug/7X+AtWrX7D+yoDAo0+jsP58ih4ibU+w/iljEsMMY6z9+p8mMt5XsP/N0riglBOw/7NrebkkO6z8=",
                    "dtype": "f8"
                  }
                },
                {
                  "hovertemplate": "<b>%{text}</b><br>Year: %{x}<br>Exchange Rate: %{y:.2f}<extra></extra>",
                  "mode": "lines+markers",
                  "name": "France",
                  "text": [
                    "France",
                    "France",
                    "France",
                    "France",
                    "France",
                    "France",
                    "France",
                    "France",
                    "France",
                    "France",
                    "France",
                    "France",
                    "France",
                    "France",
                    "France",
                    "France",
                    "France",
                    "France",
                    "France",
                    "France",
                    "France",
                    "France"
                  ],
                  "type": "scatter",
                  "x": {
                    "bdata": "0AfRB9IH0wfUB9UH1gfXB9gH2QfaB9sH3AfdB94H3wfgB+EH4gfjB+QH5Qc=",
                    "dtype": "i2"
                  },
                  "y": {
                    "bdata": "bXNjesJS8T/uef60Ud3xP4pyafzC6/A/wAMDCB9K7D8AHlGhurnpPynLEMe6uOk/vJAOD2F86T850hkYeVnnP+yKGeHtweU/0GBT51Hx5j/HgsKgTCPoPyeiX1s//eY/Un3nFyXo6D+c+dUcIBjoP1US2QdZFug/7X+AtWrX7D+yoDAo0+jsP58ih4ibU+w/iljEsMMY6z9+p8mMt5XsP/N0riglBOw/7NrebkkO6z8=",
                    "dtype": "f8"
                  }
                },
                {
                  "hovertemplate": "<b>%{text}</b><br>Year: %{x}<br>Exchange Rate: %{y:.2f}<extra></extra>",
                  "mode": "lines+markers",
                  "name": "Italy",
                  "text": [
                    "Italy",
                    "Italy",
                    "Italy",
                    "Italy",
                    "Italy",
                    "Italy",
                    "Italy",
                    "Italy",
                    "Italy",
                    "Italy",
                    "Italy",
                    "Italy",
                    "Italy",
                    "Italy",
                    "Italy",
                    "Italy",
                    "Italy",
                    "Italy",
                    "Italy",
                    "Italy",
                    "Italy",
                    "Italy"
                  ],
                  "type": "scatter",
                  "x": {
                    "bdata": "0AfRB9IH0wfUB9UH1gfXB9gH2QfaB9sH3AfdB94H3wfgB+EH4gfjB+QH5Qc=",
                    "dtype": "i2"
                  },
                  "y": {
                    "bdata": "bXNjesJS8T/uef60Ud3xP4pyafzC6/A/wAMDCB9K7D8AHlGhurnpPynLEMe6uOk/vJAOD2F86T850hkYeVnnP+yKGeHtweU/0GBT51Hx5j/HgsKgTCPoPyeiX1s//eY/Un3nFyXo6D+c+dUcIBjoP1US2QdZFug/7X+AtWrX7D+yoDAo0+jsP58ih4ibU+w/iljEsMMY6z9+p8mMt5XsP/N0riglBOw/7NrebkkO6z8=",
                    "dtype": "f8"
                  }
                },
                {
                  "hovertemplate": "<b>%{text}</b><br>Year: %{x}<br>Exchange Rate: %{y:.2f}<extra></extra>",
                  "mode": "lines+markers",
                  "name": "Japan",
                  "text": [
                    "Japan",
                    "Japan",
                    "Japan",
                    "Japan",
                    "Japan",
                    "Japan",
                    "Japan",
                    "Japan",
                    "Japan",
                    "Japan",
                    "Japan",
                    "Japan",
                    "Japan",
                    "Japan",
                    "Japan",
                    "Japan",
                    "Japan",
                    "Japan",
                    "Japan",
                    "Japan",
                    "Japan",
                    "Japan"
                  ],
                  "type": "scatter",
                  "x": {
                    "bdata": "0AfRB9IH0wfUB9UH1gfXB9gH2QfaB9sH3AfdB94H3wfgB+EH4gfjB+QH5Qc=",
                    "dtype": "i2"
                  },
                  "y": {
                    "bdata": "0clS6/3wWkA3UrZI2mFeQIHOpE3VWF9Ak//J3737XEBNTu0MUwxbQBDmdi/3jVtAOdOE7ScTXUCb5bLROXBdQO1GH/MB11lAzLOSVnxkV0D0/dR46fFVQPLNNjem81NAa32R0JbyU0BzZrtCH2ZYQHY4ukp3fFpAHottUtFCXkDmP6TfvjJbQJVh3A2iClxAqFZfXRWbW0CFeCRenkBbQH+EYcCSsVpAoKUr2EZwW0A=",
                    "dtype": "f8"
                  }
                }
              ],
              "layout": {
                "annotations": [
                  {
                    "showarrow": false,
                    "text": "Financial Crisis",
                    "textangle": 90,
                    "x": 2008,
                    "xanchor": "center",
                    "xref": "x",
                    "y": 1,
                    "yanchor": "bottom",
                    "yref": "y domain"
                  },
                  {
                    "showarrow": false,
                    "text": "Brexit vote",
                    "textangle": 90,
                    "x": 2016,
                    "xanchor": "center",
                    "xref": "x",
                    "y": 1,
                    "yanchor": "bottom",
                    "yref": "y domain"
                  },
                  {
                    "showarrow": false,
                    "text": "COVID-19 pandemic",
                    "textangle": 90,
                    "x": 2020,
                    "xanchor": "center",
                    "xref": "x",
                    "y": 1,
                    "yanchor": "bottom",
                    "yref": "y domain"
                  }
                ],
                "height": 600,
                "hovermode": "x unified",
                "legend": {
                  "x": 1.02,
                  "xanchor": "left",
                  "y": 0.99,
                  "yanchor": "top"
                },
                "shapes": [
                  {
                    "line": {
                      "color": "red",
                      "dash": "dash"
                    },
                    "opacity": 0.4,
                    "type": "line",
                    "x0": 2008,
                    "x1": 2008,
                    "xref": "x",
                    "y0": 0,
                    "y1": 1,
                    "yref": "y domain"
                  },
                  {
                    "line": {
                      "color": "red",
                      "dash": "dash"
                    },
                    "opacity": 0.4,
                    "type": "line",
                    "x0": 2016,
                    "x1": 2016,
                    "xref": "x",
                    "y0": 0,
                    "y1": 1,
                    "yref": "y domain"
                  },
                  {
                    "line": {
                      "color": "red",
                      "dash": "dash"
                    },
                    "opacity": 0.4,
                    "type": "line",
                    "x0": 2020,
                    "x1": 2020,
                    "xref": "x",
                    "y0": 0,
                    "y1": 1,
                    "yref": "y domain"
                  }
                ],
                "showlegend": true,
                "template": {
                  "data": {
                    "bar": [
                      {
                        "error_x": {
                          "color": "#2a3f5f"
                        },
                        "error_y": {
                          "color": "#2a3f5f"
                        },
                        "marker": {
                          "line": {
                            "color": "#E5ECF6",
                            "width": 0.5
                          },
                          "pattern": {
                            "fillmode": "overlay",
                            "size": 10,
                            "solidity": 0.2
                          }
                        },
                        "type": "bar"
                      }
                    ],
                    "barpolar": [
                      {
                        "marker": {
                          "line": {
                            "color": "#E5ECF6",
                            "width": 0.5
                          },
                          "pattern": {
                            "fillmode": "overlay",
                            "size": 10,
                            "solidity": 0.2
                          }
                        },
                        "type": "barpolar"
                      }
                    ],
                    "carpet": [
                      {
                        "aaxis": {
                          "endlinecolor": "#2a3f5f",
                          "gridcolor": "white",
                          "linecolor": "white",
                          "minorgridcolor": "white",
                          "startlinecolor": "#2a3f5f"
                        },
                        "baxis": {
                          "endlinecolor": "#2a3f5f",
                          "gridcolor": "white",
                          "linecolor": "white",
                          "minorgridcolor": "white",
                          "startlinecolor": "#2a3f5f"
                        },
                        "type": "carpet"
                      }
                    ],
                    "choropleth": [
                      {
                        "colorbar": {
                          "outlinewidth": 0,
                          "ticks": ""
                        },
                        "type": "choropleth"
                      }
                    ],
                    "contour": [
                      {
                        "colorbar": {
                          "outlinewidth": 0,
                          "ticks": ""
                        },
                        "colorscale": [
                          [
                            0,
                            "#0d0887"
                          ],
                          [
                            0.1111111111111111,
                            "#46039f"
                          ],
                          [
                            0.2222222222222222,
                            "#7201a8"
                          ],
                          [
                            0.3333333333333333,
                            "#9c179e"
                          ],
                          [
                            0.4444444444444444,
                            "#bd3786"
                          ],
                          [
                            0.5555555555555556,
                            "#d8576b"
                          ],
                          [
                            0.6666666666666666,
                            "#ed7953"
                          ],
                          [
                            0.7777777777777778,
                            "#fb9f3a"
                          ],
                          [
                            0.8888888888888888,
                            "#fdca26"
                          ],
                          [
                            1,
                            "#f0f921"
                          ]
                        ],
                        "type": "contour"
                      }
                    ],
                    "contourcarpet": [
                      {
                        "colorbar": {
                          "outlinewidth": 0,
                          "ticks": ""
                        },
                        "type": "contourcarpet"
                      }
                    ],
                    "heatmap": [
                      {
                        "colorbar": {
                          "outlinewidth": 0,
                          "ticks": ""
                        },
                        "colorscale": [
                          [
                            0,
                            "#0d0887"
                          ],
                          [
                            0.1111111111111111,
                            "#46039f"
                          ],
                          [
                            0.2222222222222222,
                            "#7201a8"
                          ],
                          [
                            0.3333333333333333,
                            "#9c179e"
                          ],
                          [
                            0.4444444444444444,
                            "#bd3786"
                          ],
                          [
                            0.5555555555555556,
                            "#d8576b"
                          ],
                          [
                            0.6666666666666666,
                            "#ed7953"
                          ],
                          [
                            0.7777777777777778,
                            "#fb9f3a"
                          ],
                          [
                            0.8888888888888888,
                            "#fdca26"
                          ],
                          [
                            1,
                            "#f0f921"
                          ]
                        ],
                        "type": "heatmap"
                      }
                    ],
                    "histogram": [
                      {
                        "marker": {
                          "pattern": {
                            "fillmode": "overlay",
                            "size": 10,
                            "solidity": 0.2
                          }
                        },
                        "type": "histogram"
                      }
                    ],
                    "histogram2d": [
                      {
                        "colorbar": {
                          "outlinewidth": 0,
                          "ticks": ""
                        },
                        "colorscale": [
                          [
                            0,
                            "#0d0887"
                          ],
                          [
                            0.1111111111111111,
                            "#46039f"
                          ],
                          [
                            0.2222222222222222,
                            "#7201a8"
                          ],
                          [
                            0.3333333333333333,
                            "#9c179e"
                          ],
                          [
                            0.4444444444444444,
                            "#bd3786"
                          ],
                          [
                            0.5555555555555556,
                            "#d8576b"
                          ],
                          [
                            0.6666666666666666,
                            "#ed7953"
                          ],
                          [
                            0.7777777777777778,
                            "#fb9f3a"
                          ],
                          [
                            0.8888888888888888,
                            "#fdca26"
                          ],
                          [
                            1,
                            "#f0f921"
                          ]
                        ],
                        "type": "histogram2d"
                      }
                    ],
                    "histogram2dcontour": [
                      {
                        "colorbar": {
                          "outlinewidth": 0,
                          "ticks": ""
                        },
                        "colorscale": [
                          [
                            0,
                            "#0d0887"
                          ],
                          [
                            0.1111111111111111,
                            "#46039f"
                          ],
                          [
                            0.2222222222222222,
                            "#7201a8"
                          ],
                          [
                            0.3333333333333333,
                            "#9c179e"
                          ],
                          [
                            0.4444444444444444,
                            "#bd3786"
                          ],
                          [
                            0.5555555555555556,
                            "#d8576b"
                          ],
                          [
                            0.6666666666666666,
                            "#ed7953"
                          ],
                          [
                            0.7777777777777778,
                            "#fb9f3a"
                          ],
                          [
                            0.8888888888888888,
                            "#fdca26"
                          ],
                          [
                            1,
                            "#f0f921"
                          ]
                        ],
                        "type": "histogram2dcontour"
                      }
                    ],
                    "mesh3d": [
                      {
                        "colorbar": {
                          "outlinewidth": 0,
                          "ticks": ""
                        },
                        "type": "mesh3d"
                      }
                    ],
                    "parcoords": [
                      {
                        "line": {
                          "colorbar": {
                            "outlinewidth": 0,
                            "ticks": ""
                          }
                        },
                        "type": "parcoords"
                      }
                    ],
                    "pie": [
                      {
                        "automargin": true,
                        "type": "pie"
                      }
                    ],
                    "scatter": [
                      {
                        "fillpattern": {
                          "fillmode": "overlay",
                          "size": 10,
                          "solidity": 0.2
                        },
                        "type": "scatter"
                      }
                    ],
                    "scatter3d": [
                      {
                        "line": {
                          "colorbar": {
                            "outlinewidth": 0,
                            "ticks": ""
                          }
                        },
                        "marker": {
                          "colorbar": {
                            "outlinewidth": 0,
                            "ticks": ""
                          }
                        },
                        "type": "scatter3d"
                      }
                    ],
                    "scattercarpet": [
                      {
                        "marker": {
                          "colorbar": {
                            "outlinewidth": 0,
                            "ticks": ""
                          }
                        },
                        "type": "scattercarpet"
                      }
                    ],
                    "scattergeo": [
                      {
                        "marker": {
                          "colorbar": {
                            "outlinewidth": 0,
                            "ticks": ""
                          }
                        },
                        "type": "scattergeo"
                      }
                    ],
                    "scattergl": [
                      {
                        "marker": {
                          "colorbar": {
                            "outlinewidth": 0,
                            "ticks": ""
                          }
                        },
                        "type": "scattergl"
                      }
                    ],
                    "scattermap": [
                      {
                        "marker": {
                          "colorbar": {
                            "outlinewidth": 0,
                            "ticks": ""
                          }
                        },
                        "type": "scattermap"
                      }
                    ],
                    "scattermapbox": [
                      {
                        "marker": {
                          "colorbar": {
                            "outlinewidth": 0,
                            "ticks": ""
                          }
                        },
                        "type": "scattermapbox"
                      }
                    ],
                    "scatterpolar": [
                      {
                        "marker": {
                          "colorbar": {
                            "outlinewidth": 0,
                            "ticks": ""
                          }
                        },
                        "type": "scatterpolar"
                      }
                    ],
                    "scatterpolargl": [
                      {
                        "marker": {
                          "colorbar": {
                            "outlinewidth": 0,
                            "ticks": ""
                          }
                        },
                        "type": "scatterpolargl"
                      }
                    ],
                    "scatterternary": [
                      {
                        "marker": {
                          "colorbar": {
                            "outlinewidth": 0,
                            "ticks": ""
                          }
                        },
                        "type": "scatterternary"
                      }
                    ],
                    "surface": [
                      {
                        "colorbar": {
                          "outlinewidth": 0,
                          "ticks": ""
                        },
                        "colorscale": [
                          [
                            0,
                            "#0d0887"
                          ],
                          [
                            0.1111111111111111,
                            "#46039f"
                          ],
                          [
                            0.2222222222222222,
                            "#7201a8"
                          ],
                          [
                            0.3333333333333333,
                            "#9c179e"
                          ],
                          [
                            0.4444444444444444,
                            "#bd3786"
                          ],
                          [
                            0.5555555555555556,
                            "#d8576b"
                          ],
                          [
                            0.6666666666666666,
                            "#ed7953"
                          ],
                          [
                            0.7777777777777778,
                            "#fb9f3a"
                          ],
                          [
                            0.8888888888888888,
                            "#fdca26"
                          ],
                          [
                            1,
                            "#f0f921"
                          ]
                        ],
                        "type": "surface"
                      }
                    ],
                    "table": [
                      {
                        "cells": {
                          "fill": {
                            "color": "#EBF0F8"
                          },
                          "line": {
                            "color": "white"
                          }
                        },
                        "header": {
                          "fill": {
                            "color": "#C8D4E3"
                          },
                          "line": {
                            "color": "white"
                          }
                        },
                        "type": "table"
                      }
                    ]
                  },
                  "layout": {
                    "annotationdefaults": {
                      "arrowcolor": "#2a3f5f",
                      "arrowhead": 0,
                      "arrowwidth": 1
                    },
                    "autotypenumbers": "strict",
                    "coloraxis": {
                      "colorbar": {
                        "outlinewidth": 0,
                        "ticks": ""
                      }
                    },
                    "colorscale": {
                      "diverging": [
                        [
                          0,
                          "#8e0152"
                        ],
                        [
                          0.1,
                          "#c51b7d"
                        ],
                        [
                          0.2,
                          "#de77ae"
                        ],
                        [
                          0.3,
                          "#f1b6da"
                        ],
                        [
                          0.4,
                          "#fde0ef"
                        ],
                        [
                          0.5,
                          "#f7f7f7"
                        ],
                        [
                          0.6,
                          "#e6f5d0"
                        ],
                        [
                          0.7,
                          "#b8e186"
                        ],
                        [
                          0.8,
                          "#7fbc41"
                        ],
                        [
                          0.9,
                          "#4d9221"
                        ],
                        [
                          1,
                          "#276419"
                        ]
                      ],
                      "sequential": [
                        [
                          0,
                          "#0d0887"
                        ],
                        [
                          0.1111111111111111,
                          "#46039f"
                        ],
                        [
                          0.2222222222222222,
                          "#7201a8"
                        ],
                        [
                          0.3333333333333333,
                          "#9c179e"
                        ],
                        [
                          0.4444444444444444,
                          "#bd3786"
                        ],
                        [
                          0.5555555555555556,
                          "#d8576b"
                        ],
                        [
                          0.6666666666666666,
                          "#ed7953"
                        ],
                        [
                          0.7777777777777778,
                          "#fb9f3a"
                        ],
                        [
                          0.8888888888888888,
                          "#fdca26"
                        ],
                        [
                          1,
                          "#f0f921"
                        ]
                      ],
                      "sequentialminus": [
                        [
                          0,
                          "#0d0887"
                        ],
                        [
                          0.1111111111111111,
                          "#46039f"
                        ],
                        [
                          0.2222222222222222,
                          "#7201a8"
                        ],
                        [
                          0.3333333333333333,
                          "#9c179e"
                        ],
                        [
                          0.4444444444444444,
                          "#bd3786"
                        ],
                        [
                          0.5555555555555556,
                          "#d8576b"
                        ],
                        [
                          0.6666666666666666,
                          "#ed7953"
                        ],
                        [
                          0.7777777777777778,
                          "#fb9f3a"
                        ],
                        [
                          0.8888888888888888,
                          "#fdca26"
                        ],
                        [
                          1,
                          "#f0f921"
                        ]
                      ]
                    },
                    "colorway": [
                      "#636efa",
                      "#EF553B",
                      "#00cc96",
                      "#ab63fa",
                      "#FFA15A",
                      "#19d3f3",
                      "#FF6692",
                      "#B6E880",
                      "#FF97FF",
                      "#FECB52"
                    ],
                    "font": {
                      "color": "#2a3f5f"
                    },
                    "geo": {
                      "bgcolor": "white",
                      "lakecolor": "white",
                      "landcolor": "#E5ECF6",
                      "showlakes": true,
                      "showland": true,
                      "subunitcolor": "white"
                    },
                    "hoverlabel": {
                      "align": "left"
                    },
                    "hovermode": "closest",
                    "mapbox": {
                      "style": "light"
                    },
                    "paper_bgcolor": "white",
                    "plot_bgcolor": "#E5ECF6",
                    "polar": {
                      "angularaxis": {
                        "gridcolor": "white",
                        "linecolor": "white",
                        "ticks": ""
                      },
                      "bgcolor": "#E5ECF6",
                      "radialaxis": {
                        "gridcolor": "white",
                        "linecolor": "white",
                        "ticks": ""
                      }
                    },
                    "scene": {
                      "xaxis": {
                        "backgroundcolor": "#E5ECF6",
                        "gridcolor": "white",
                        "gridwidth": 2,
                        "linecolor": "white",
                        "showbackground": true,
                        "ticks": "",
                        "zerolinecolor": "white"
                      },
                      "yaxis": {
                        "backgroundcolor": "#E5ECF6",
                        "gridcolor": "white",
                        "gridwidth": 2,
                        "linecolor": "white",
                        "showbackground": true,
                        "ticks": "",
                        "zerolinecolor": "white"
                      },
                      "zaxis": {
                        "backgroundcolor": "#E5ECF6",
                        "gridcolor": "white",
                        "gridwidth": 2,
                        "linecolor": "white",
                        "showbackground": true,
                        "ticks": "",
                        "zerolinecolor": "white"
                      }
                    },
                    "shapedefaults": {
                      "line": {
                        "color": "#2a3f5f"
                      }
                    },
                    "ternary": {
                      "aaxis": {
                        "gridcolor": "white",
                        "linecolor": "white",
                        "ticks": ""
                      },
                      "baxis": {
                        "gridcolor": "white",
                        "linecolor": "white",
                        "ticks": ""
                      },
                      "bgcolor": "#E5ECF6",
                      "caxis": {
                        "gridcolor": "white",
                        "linecolor": "white",
                        "ticks": ""
                      }
                    },
                    "title": {
                      "x": 0.05
                    },
                    "xaxis": {
                      "automargin": true,
                      "gridcolor": "white",
                      "linecolor": "white",
                      "ticks": "",
                      "title": {
                        "standoff": 15
                      },
                      "zerolinecolor": "white",
                      "zerolinewidth": 2
                    },
                    "yaxis": {
                      "automargin": true,
                      "gridcolor": "white",
                      "linecolor": "white",
                      "ticks": "",
                      "title": {
                        "standoff": 15
                      },
                      "zerolinecolor": "white",
                      "zerolinewidth": 2
                    }
                  }
                },
                "title": {
                  "text": "G7 Countries Exchange Rates"
                },
                "width": 1000,
                "xaxis": {
                  "gridcolor": "LightGray",
                  "gridwidth": 1,
                  "showgrid": true,
                  "title": {
                    "text": "Year"
                  }
                },
                "yaxis": {
                  "gridcolor": "LightGray",
                  "gridwidth": 1,
                  "showgrid": true,
                  "title": {
                    "text": "Exchange Rate (Local Currency per US Dollar)"
                  },
                  "type": "log"
                }
              }
            }
          },
          "metadata": {},
          "output_type": "display_data"
        }
      ],
      "source": [
        "g7_countries = ['United States', 'Canada', 'United Kingdom', \n",
        "                'Germany', 'France', 'Italy', 'Japan']\n",
        "\n",
        "g7_df = df[df['Country'].isin(g7_countries)]\n",
        "\n",
        "\n",
        "fig = go.Figure()\n",
        "\n",
        "\n",
        "for country in g7_countries:\n",
        "    country_data = g7_df[g7_df['Country'] == country]\n",
        "    fig.add_trace(\n",
        "        go.Scatter(\n",
        "            x=country_data['Year'],\n",
        "            y=country_data['Value'],\n",
        "            name=country,\n",
        "            mode='lines+markers',\n",
        "            hovertemplate=\n",
        "            '<b>%{text}</b><br>' +\n",
        "            'Year: %{x}<br>' +\n",
        "            'Exchange Rate: %{y:.2f}<extra></extra>',\n",
        "            text=[country]*len(country_data)\n",
        "        )\n",
        "    )\n",
        "\n",
        "# Significant events\n",
        "events = {\n",
        "    2008: \"Financial Crisis\",\n",
        "    2016: \"Brexit vote\",\n",
        "    2020: \"COVID-19 pandemic\"\n",
        "}\n",
        "\n",
        "for year, event in events.items():\n",
        "    fig.add_vline(\n",
        "        x=year,\n",
        "        line_dash=\"dash\",\n",
        "        line_color=\"red\",\n",
        "        opacity=0.4,\n",
        "        annotation_text=event,\n",
        "        annotation_textangle=90,\n",
        "        annotation_position=\"top\"\n",
        "    )\n",
        "\n",
        "\n",
        "fig.update_layout(\n",
        "    title=\"G7 Countries Exchange Rates\",\n",
        "    xaxis_title=\"Year\",\n",
        "    yaxis_title=\"Exchange Rate (Local Currency per US Dollar)\",\n",
        "    yaxis_type=\"log\",  \n",
        "    hovermode='x unified',\n",
        "    showlegend=True,\n",
        "    legend=dict(\n",
        "        yanchor=\"top\",\n",
        "        y=0.99,\n",
        "        xanchor=\"left\",\n",
        "        x=1.02\n",
        "    ),\n",
        "    width=1000,\n",
        "    height=600\n",
        ")\n",
        "\n",
        "\n",
        "fig.update_xaxes(showgrid=True, gridwidth=1, gridcolor='LightGray')\n",
        "fig.update_yaxes(showgrid=True, gridwidth=1, gridcolor='LightGray')\n",
        "\n",
        "\n",
        "fig.show()"
      ]
    }
  ],
  "metadata": {
    "colab": {
      "provenance": []
    },
    "kernelspec": {
      "display_name": ".venv",
      "language": "python",
      "name": "python3"
    },
    "language_info": {
      "codemirror_mode": {
        "name": "ipython",
        "version": 3
      },
      "file_extension": ".py",
      "mimetype": "text/x-python",
      "name": "python",
      "nbconvert_exporter": "python",
      "pygments_lexer": "ipython3",
      "version": "3.12.5"
    }
  },
  "nbformat": 4,
  "nbformat_minor": 0
}
